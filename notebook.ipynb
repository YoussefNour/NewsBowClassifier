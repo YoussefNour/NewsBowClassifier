{
 "metadata": {
  "language_info": {
   "codemirror_mode": {
    "name": "ipython",
    "version": 3
   },
   "file_extension": ".py",
   "mimetype": "text/x-python",
   "name": "python",
   "nbconvert_exporter": "python",
   "pygments_lexer": "ipython3",
   "version": "3.8.3-final"
  },
  "orig_nbformat": 2,
  "kernelspec": {
   "name": "python3",
   "display_name": "Python 3",
   "language": "python"
  }
 },
 "nbformat": 4,
 "nbformat_minor": 2,
 "cells": [
  {
   "cell_type": "code",
   "execution_count": 1,
   "metadata": {},
   "outputs": [],
   "source": [
    "import os\n",
    "\n",
    "ASSETS_DIR = os.path.join(os.path.dirname(os.path.abspath(__name__)), 'assets')\n",
    "INPUTS_DIR = os.path.join(ASSETS_DIR, 'inputs')\n",
    "OUTPUTS_DIR = os.path.join(ASSETS_DIR, 'outputs')\n",
    "PICKLES_DIR = os.path.join(ASSETS_DIR, 'pickles')\n"
   ]
  },
  {
   "cell_type": "code",
   "execution_count": 2,
   "metadata": {},
   "outputs": [],
   "source": [
    "import re\n",
    "def text_normalize(text):\n",
    "    text = str(text)\n",
    "    # denoise\n",
    "    noise = re.compile(\"\"\" ّ    | # Tashdid\n",
    "                             َ    | # Fatha\n",
    "                             ً    | # Tanwin Fath\n",
    "                             ُ    | # Damma\n",
    "                             ٌ    | # Tanwin Damm\n",
    "                             ِ    | # Kasra\n",
    "                             ٍ    | # Tanwin Kasr\n",
    "                             ْ    | # Sukun\n",
    "                             ـ   | # Tatwil/Kashida\n",
    "                             \"  # quotations \n",
    "                         \"\"\", re.VERBOSE)\n",
    "    text = re.sub(noise, '', text)\n",
    "    # text normalizer\n",
    "    text = re.sub(r\"أ|إ|آ\", \"ا\", text)\n",
    "    text = re.sub(r\"ء|ئ|ؤ\", \"ء\", text)\n",
    "    text = re.sub(r\"ى|ي\", \"ي\", text)\n",
    "    text = re.sub(r\"ه|ة\", \"ه\", text)\n",
    "\n",
    "    # number noramlize\n",
    "    text = re.sub(r\"\\d+\", \"NUM\", text)\n",
    "\n",
    "    # remove non letters\n",
    "    text = re.sub(r\"\\W\", \" \", text)\n",
    "    \n",
    "    # if the word is very small neglect it\n",
    "    text = \" \".join([word for word in text.split() if len(word) >= 3 ])\n",
    "\n",
    "    return text"
   ]
  },
  {
   "cell_type": "code",
   "execution_count": 3,
   "metadata": {},
   "outputs": [
    {
     "output_type": "stream",
     "name": "stdout",
     "text": [
      "Art         1\nMedicine    1\nSports      1\nName: label, dtype: int64\n"
     ]
    },
    {
     "output_type": "execute_result",
     "data": {
      "text/plain": [
       "                                                text     label\n",
       "0  نصر محروس انتظروا اغاني جديده مصطفي شوقي وسومه...       Art\n",
       "1  اطمن علي نفسك فحص البروستاتا ومتي يجب اجراءه n...  Medicine\n",
       "2  NUM مباراه جمعت الزمالك والمقاولون اللقاء الاو...    Sports"
      ],
      "text/html": "<div>\n<style scoped>\n    .dataframe tbody tr th:only-of-type {\n        vertical-align: middle;\n    }\n\n    .dataframe tbody tr th {\n        vertical-align: top;\n    }\n\n    .dataframe thead th {\n        text-align: right;\n    }\n</style>\n<table border=\"1\" class=\"dataframe\">\n  <thead>\n    <tr style=\"text-align: right;\">\n      <th></th>\n      <th>text</th>\n      <th>label</th>\n    </tr>\n  </thead>\n  <tbody>\n    <tr>\n      <th>0</th>\n      <td>نصر محروس انتظروا اغاني جديده مصطفي شوقي وسومه...</td>\n      <td>Art</td>\n    </tr>\n    <tr>\n      <th>1</th>\n      <td>اطمن علي نفسك فحص البروستاتا ومتي يجب اجراءه n...</td>\n      <td>Medicine</td>\n    </tr>\n    <tr>\n      <th>2</th>\n      <td>NUM مباراه جمعت الزمالك والمقاولون اللقاء الاو...</td>\n      <td>Sports</td>\n    </tr>\n  </tbody>\n</table>\n</div>"
     },
     "metadata": {},
     "execution_count": 3
    }
   ],
   "source": [
    "import pandas as pd\n",
    "dataset = pd.DataFrame(columns=['text', 'label'])\n",
    "for file in os.listdir(INPUTS_DIR):\n",
    "    if not file.startswith('.'):\n",
    "        temp_df = pd.read_csv(os.path.join(INPUTS_DIR, file))\n",
    "        # apply normalizing\n",
    "        temp_df['text'] = temp_df['text'].apply(text_normalize)\n",
    "        text = \" \".join(temp_df['text'].values)\n",
    "        label = file.split(\".\")[0]\n",
    "        dataset = dataset.append({\n",
    "            \"text\": text,\n",
    "            \"label\": label\n",
    "        }, ignore_index = True) \n",
    "print(dataset['label'].value_counts())\n",
    "dataset.head()"
   ]
  },
  {
   "cell_type": "code",
   "execution_count": 4,
   "metadata": {},
   "outputs": [],
   "source": [
    "from sklearn.feature_extraction.text import TfidfVectorizer\n",
    "vectorizer = TfidfVectorizer(ngram_range=(1, 2), sublinear_tf=True)"
   ]
  },
  {
   "cell_type": "code",
   "execution_count": 5,
   "metadata": {},
   "outputs": [
    {
     "output_type": "execute_result",
     "data": {
      "text/plain": [
       "TfidfVectorizer(ngram_range=(1, 2), sublinear_tf=True)"
      ]
     },
     "metadata": {},
     "execution_count": 5
    }
   ],
   "source": [
    "vectorizer.fit(dataset['text'])"
   ]
  },
  {
   "cell_type": "code",
   "execution_count": 6,
   "metadata": {},
   "outputs": [],
   "source": [
    "tf_idfs = pd.DataFrame(vectorizer.transform(dataset['text']).toarray(), columns=vectorizer.get_feature_names())\n",
    "tf_idfs.to_csv(\"tf-idfs.csv\")"
   ]
  },
  {
   "cell_type": "code",
   "execution_count": 7,
   "metadata": {},
   "outputs": [
    {
     "output_type": "execute_result",
     "data": {
      "text/plain": [
       "academy            NaN\n",
       "academy بمغامرات   NaN\n",
       "act                NaN\n",
       "act بمليار         NaN\n",
       "acting             NaN\n",
       "                    ..\n",
       "ﺷﺒهه اميتاب        NaN\n",
       "ﺷﻜﺮي               NaN\n",
       "ﺷﻜﺮي ﺳﺮﺣﺎن         NaN\n",
       "ﻋﻤﺮي               NaN\n",
       "ﻋﻤﺮي ھﺒﻘﻰ          NaN\n",
       "Name: 0, Length: 117063, dtype: float64"
      ]
     },
     "metadata": {},
     "execution_count": 7
    }
   ],
   "source": [
    "tf_idfs[tf_idfs>0.01].iloc[0, :]"
   ]
  },
  {
   "cell_type": "code",
   "execution_count": 8,
   "metadata": {},
   "outputs": [],
   "source": [
    "tf_idfs = {}\n",
    "for label in dataset['label'].unique():\n",
    "    tf_idfs[label] = vectorizer.transform(dataset.loc[dataset['label'] == label]['text'])"
   ]
  },
  {
   "cell_type": "code",
   "execution_count": 9,
   "metadata": {},
   "outputs": [],
   "source": [
    "from sklearn.metrics.pairwise import linear_kernel\n",
    "import operator\n",
    "\n",
    "def classify(text):\n",
    "    text = text_normalize(text)\n",
    "    text_v = vectorizer.transform([text])\n",
    "    distances = {}\n",
    "    for key in tf_idfs.keys():\n",
    "        distances[key] = linear_kernel(text_v, tf_idfs[key]).flatten()[0]\n",
    "    return distances"
   ]
  },
  {
   "cell_type": "code",
   "execution_count": 16,
   "metadata": {},
   "outputs": [
    {
     "output_type": "stream",
     "name": "stdout",
     "text": [
      "for text input:\n ما توقعاتك لنتيجة لقاء #الأهلي و #غزل_المحلة في الدوري المصري اليوم؟ تنطلق في السابعة والنصف مساء =>\nSports\n\nfor text input:\n لأهلي يستقر على تشكيل مواجهة غزل المحلة فى الدوري =>\nSports\n\nfor text input:\n أسرع انتشارًا.. رصد سلالة جديدة من كورونا فى بريطانيا =>\nMedicine\n\nfor text input:\n برازيلية تحول منزلها لمستشفى دمى لإسعاد الأطفال فى زمن الكورونا =>\nMedicine\n\nfor text input:\n شوبير يعلن سلبية مسحة ثنائى منتخب الشباب وانفراجة لخوض مواجهة تونس =>\nSports\n\nfor text input:\n لوسى تودع 2020 بوصلة رقص على أغنية تامر عاشور باى باى.. فيديو وصور =>\nArt\n\nfor text input:\n إلهام شاهين تشكر ليوم السابع بعد ندوة الاحتفاء بتكريمها فى مهرجان القاهرة =>\nArt\n\nfor text input:\n شاهد رقصة مع آسر ياسين وموقف طريف فى عيد ميلاد نيللى كريم =>\nArt\n\n"
     ]
    }
   ],
   "source": [
    "texts = [\n",
    "    \"ما توقعاتك لنتيجة لقاء #الأهلي و #غزل_المحلة في الدوري المصري اليوم؟ تنطلق في السابعة والنصف مساء\",\n",
    "    \"لأهلي يستقر على تشكيل مواجهة غزل المحلة فى الدوري\",\n",
    "    \"أسرع انتشارًا.. رصد سلالة جديدة من كورونا فى بريطانيا\",\n",
    "    \"برازيلية تحول منزلها لمستشفى دمى لإسعاد الأطفال فى زمن الكورونا\",\n",
    "    \"شوبير يعلن سلبية مسحة ثنائى منتخب الشباب وانفراجة لخوض مواجهة تونس\",\n",
    "    \"لوسى تودع 2020 بوصلة رقص على أغنية تامر عاشور باى باى.. فيديو وصور\",\n",
    "    \"إلهام شاهين تشكر ليوم السابع بعد ندوة الاحتفاء بتكريمها فى مهرجان القاهرة\",\n",
    "    \"شاهد رقصة مع آسر ياسين وموقف طريف فى عيد ميلاد نيللى كريم\"\n",
    "]\n",
    "for text in texts:\n",
    "    distances = classify(text)\n",
    "    #print(\"for text input : {} ditances are :\".format(text))\n",
    "    #print(sorted(distances.items(), key=operator.itemgetter(1), reverse=True))\n",
    "    #print()\n",
    "    print(\"for text input:\\n {}\".format(text))\n",
    "    print(sorted(distances.items(), key=operator.itemgetter(1), reverse=True)[0][0])\n",
    "    print()"
   ]
  },
  {
   "cell_type": "code",
   "execution_count": null,
   "metadata": {},
   "outputs": [],
   "source": []
  }
 ]
}